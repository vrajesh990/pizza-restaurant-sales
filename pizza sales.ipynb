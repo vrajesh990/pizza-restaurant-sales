{
 "cells": [
  {
   "cell_type": "markdown",
   "id": "0253b7ab",
   "metadata": {},
   "source": [
    "## PIZZA Restaurant SALES"
   ]
  },
  {
   "cell_type": "markdown",
   "id": "11b719e6",
   "metadata": {},
   "source": [
    "🍕The Pizza Challenge\n",
    "For the Maven Pizza Challenge, you’ll be playing the role of a BI Consultant hired by Plato's Pizza, a Greek-inspired pizza place in New Jersey. You've been hired to help the restaurant use data to improve operations, and just received the following note:\n",
    "\n",
    "Welcome aboard, we're glad you're here to help!\n",
    "\n",
    "Things are going OK here at Plato's, but there's room for improvement. We've been collecting transactional data for the past year, but really haven't been able to put it to good use. Hoping you can analyze the data and put together a report to help us find opportunities to drive more sales and work more efficiently.\n",
    "\n",
    "Here are some questions that we'd like to be able to answer:\n",
    "\n",
    "- What days and times do we tend to be busiest?\n",
    "- How many pizzas are we making during peak periods?\n",
    "- What are our best and worst-selling pizzas?\n",
    "- What's our average order value?\n",
    "- How well are we utilizing our seating capacity? (we have 15 tables and 60 seats)\n",
    "That's all I can think of for now, but if you have any other ideas I'd love to hear them – you're the expert!\n",
    "\n",
    "Thanks in advance,\n",
    "\n",
    "Mario Maven (Manager, Plato's Pizza)"
   ]
  },
  {
   "cell_type": "code",
   "execution_count": 1,
   "id": "4c8d5242",
   "metadata": {},
   "outputs": [],
   "source": [
    "import pandas as pd\n",
    "import numpy as np\n",
    "import matplotlib.pyplot as plt\n",
    "from datetime import datetime\n",
    "import seaborn as sns"
   ]
  },
  {
   "cell_type": "code",
   "execution_count": 2,
   "id": "6768238a",
   "metadata": {},
   "outputs": [],
   "source": [
    "df = pd.read_excel('C:/Users/ADMIN/Desktop/Data Model - Pizza Sales.xlsx')"
   ]
  },
  {
   "cell_type": "code",
   "execution_count": 3,
   "id": "4722483f",
   "metadata": {},
   "outputs": [
    {
     "data": {
      "text/html": [
       "<div>\n",
       "<style scoped>\n",
       "    .dataframe tbody tr th:only-of-type {\n",
       "        vertical-align: middle;\n",
       "    }\n",
       "\n",
       "    .dataframe tbody tr th {\n",
       "        vertical-align: top;\n",
       "    }\n",
       "\n",
       "    .dataframe thead th {\n",
       "        text-align: right;\n",
       "    }\n",
       "</style>\n",
       "<table border=\"1\" class=\"dataframe\">\n",
       "  <thead>\n",
       "    <tr style=\"text-align: right;\">\n",
       "      <th></th>\n",
       "      <th>order_details_id</th>\n",
       "      <th>order_id</th>\n",
       "      <th>pizza_id</th>\n",
       "      <th>quantity</th>\n",
       "      <th>order_date</th>\n",
       "      <th>order_time</th>\n",
       "      <th>unit_price</th>\n",
       "      <th>total_price</th>\n",
       "      <th>pizza_size</th>\n",
       "      <th>pizza_category</th>\n",
       "      <th>pizza_ingredients</th>\n",
       "      <th>pizza_name</th>\n",
       "    </tr>\n",
       "  </thead>\n",
       "  <tbody>\n",
       "    <tr>\n",
       "      <th>0</th>\n",
       "      <td>1</td>\n",
       "      <td>1</td>\n",
       "      <td>hawaiian_m</td>\n",
       "      <td>1</td>\n",
       "      <td>2015-01-01</td>\n",
       "      <td>11:38:36</td>\n",
       "      <td>13.25</td>\n",
       "      <td>13.25</td>\n",
       "      <td>M</td>\n",
       "      <td>Classic</td>\n",
       "      <td>Sliced Ham, Pineapple, Mozzarella Cheese</td>\n",
       "      <td>The Hawaiian Pizza</td>\n",
       "    </tr>\n",
       "    <tr>\n",
       "      <th>1</th>\n",
       "      <td>2</td>\n",
       "      <td>2</td>\n",
       "      <td>classic_dlx_m</td>\n",
       "      <td>1</td>\n",
       "      <td>2015-01-01</td>\n",
       "      <td>11:57:40</td>\n",
       "      <td>16.00</td>\n",
       "      <td>16.00</td>\n",
       "      <td>M</td>\n",
       "      <td>Classic</td>\n",
       "      <td>Pepperoni, Mushrooms, Red Onions, Red Peppers,...</td>\n",
       "      <td>The Classic Deluxe Pizza</td>\n",
       "    </tr>\n",
       "    <tr>\n",
       "      <th>2</th>\n",
       "      <td>3</td>\n",
       "      <td>2</td>\n",
       "      <td>five_cheese_l</td>\n",
       "      <td>1</td>\n",
       "      <td>2015-01-01</td>\n",
       "      <td>11:57:40</td>\n",
       "      <td>18.50</td>\n",
       "      <td>18.50</td>\n",
       "      <td>L</td>\n",
       "      <td>Veggie</td>\n",
       "      <td>Mozzarella Cheese, Provolone Cheese, Smoked Go...</td>\n",
       "      <td>The Five Cheese Pizza</td>\n",
       "    </tr>\n",
       "    <tr>\n",
       "      <th>3</th>\n",
       "      <td>4</td>\n",
       "      <td>2</td>\n",
       "      <td>ital_supr_l</td>\n",
       "      <td>1</td>\n",
       "      <td>2015-01-01</td>\n",
       "      <td>11:57:40</td>\n",
       "      <td>20.75</td>\n",
       "      <td>20.75</td>\n",
       "      <td>L</td>\n",
       "      <td>Supreme</td>\n",
       "      <td>Calabrese Salami, Capocollo, Tomatoes, Red Oni...</td>\n",
       "      <td>The Italian Supreme Pizza</td>\n",
       "    </tr>\n",
       "    <tr>\n",
       "      <th>4</th>\n",
       "      <td>5</td>\n",
       "      <td>2</td>\n",
       "      <td>mexicana_m</td>\n",
       "      <td>1</td>\n",
       "      <td>2015-01-01</td>\n",
       "      <td>11:57:40</td>\n",
       "      <td>16.00</td>\n",
       "      <td>16.00</td>\n",
       "      <td>M</td>\n",
       "      <td>Veggie</td>\n",
       "      <td>Tomatoes, Red Peppers, Jalapeno Peppers, Red O...</td>\n",
       "      <td>The Mexicana Pizza</td>\n",
       "    </tr>\n",
       "  </tbody>\n",
       "</table>\n",
       "</div>"
      ],
      "text/plain": [
       "   order_details_id  order_id       pizza_id  quantity order_date order_time  \\\n",
       "0                 1         1     hawaiian_m         1 2015-01-01   11:38:36   \n",
       "1                 2         2  classic_dlx_m         1 2015-01-01   11:57:40   \n",
       "2                 3         2  five_cheese_l         1 2015-01-01   11:57:40   \n",
       "3                 4         2    ital_supr_l         1 2015-01-01   11:57:40   \n",
       "4                 5         2     mexicana_m         1 2015-01-01   11:57:40   \n",
       "\n",
       "   unit_price  total_price pizza_size pizza_category  \\\n",
       "0       13.25        13.25          M        Classic   \n",
       "1       16.00        16.00          M        Classic   \n",
       "2       18.50        18.50          L         Veggie   \n",
       "3       20.75        20.75          L        Supreme   \n",
       "4       16.00        16.00          M         Veggie   \n",
       "\n",
       "                                   pizza_ingredients  \\\n",
       "0           Sliced Ham, Pineapple, Mozzarella Cheese   \n",
       "1  Pepperoni, Mushrooms, Red Onions, Red Peppers,...   \n",
       "2  Mozzarella Cheese, Provolone Cheese, Smoked Go...   \n",
       "3  Calabrese Salami, Capocollo, Tomatoes, Red Oni...   \n",
       "4  Tomatoes, Red Peppers, Jalapeno Peppers, Red O...   \n",
       "\n",
       "                  pizza_name  \n",
       "0         The Hawaiian Pizza  \n",
       "1   The Classic Deluxe Pizza  \n",
       "2      The Five Cheese Pizza  \n",
       "3  The Italian Supreme Pizza  \n",
       "4         The Mexicana Pizza  "
      ]
     },
     "execution_count": 3,
     "metadata": {},
     "output_type": "execute_result"
    }
   ],
   "source": [
    "df.head()"
   ]
  },
  {
   "cell_type": "code",
   "execution_count": 4,
   "id": "d18e760d",
   "metadata": {},
   "outputs": [
    {
     "name": "stdout",
     "output_type": "stream",
     "text": [
      "<class 'pandas.core.frame.DataFrame'>\n",
      "RangeIndex: 48620 entries, 0 to 48619\n",
      "Data columns (total 12 columns):\n",
      " #   Column             Non-Null Count  Dtype         \n",
      "---  ------             --------------  -----         \n",
      " 0   order_details_id   48620 non-null  int64         \n",
      " 1   order_id           48620 non-null  int64         \n",
      " 2   pizza_id           48620 non-null  object        \n",
      " 3   quantity           48620 non-null  int64         \n",
      " 4   order_date         48620 non-null  datetime64[ns]\n",
      " 5   order_time         48620 non-null  object        \n",
      " 6   unit_price         48620 non-null  float64       \n",
      " 7   total_price        48620 non-null  float64       \n",
      " 8   pizza_size         48620 non-null  object        \n",
      " 9   pizza_category     48620 non-null  object        \n",
      " 10  pizza_ingredients  48620 non-null  object        \n",
      " 11  pizza_name         48620 non-null  object        \n",
      "dtypes: datetime64[ns](1), float64(2), int64(3), object(6)\n",
      "memory usage: 4.5+ MB\n"
     ]
    }
   ],
   "source": [
    "df.info()"
   ]
  },
  {
   "cell_type": "code",
   "execution_count": 36,
   "id": "290f0797",
   "metadata": {},
   "outputs": [],
   "source": [
    "## making new column \n",
    "df['datetime'] = df.apply(lambda row: pd.Timestamp.combine(row['order_date'], row['order_time']), axis=1)\n"
   ]
  },
  {
   "cell_type": "code",
   "execution_count": 6,
   "id": "63399ea1",
   "metadata": {},
   "outputs": [
    {
     "data": {
      "text/html": [
       "<div>\n",
       "<style scoped>\n",
       "    .dataframe tbody tr th:only-of-type {\n",
       "        vertical-align: middle;\n",
       "    }\n",
       "\n",
       "    .dataframe tbody tr th {\n",
       "        vertical-align: top;\n",
       "    }\n",
       "\n",
       "    .dataframe thead th {\n",
       "        text-align: right;\n",
       "    }\n",
       "</style>\n",
       "<table border=\"1\" class=\"dataframe\">\n",
       "  <thead>\n",
       "    <tr style=\"text-align: right;\">\n",
       "      <th></th>\n",
       "      <th>order_details_id</th>\n",
       "      <th>order_id</th>\n",
       "      <th>pizza_id</th>\n",
       "      <th>quantity</th>\n",
       "      <th>order_date</th>\n",
       "      <th>order_time</th>\n",
       "      <th>unit_price</th>\n",
       "      <th>total_price</th>\n",
       "      <th>pizza_size</th>\n",
       "      <th>pizza_category</th>\n",
       "      <th>pizza_ingredients</th>\n",
       "      <th>pizza_name</th>\n",
       "      <th>datetime</th>\n",
       "    </tr>\n",
       "  </thead>\n",
       "  <tbody>\n",
       "    <tr>\n",
       "      <th>0</th>\n",
       "      <td>1</td>\n",
       "      <td>1</td>\n",
       "      <td>hawaiian_m</td>\n",
       "      <td>1</td>\n",
       "      <td>2015-01-01</td>\n",
       "      <td>11:38:36</td>\n",
       "      <td>13.25</td>\n",
       "      <td>13.25</td>\n",
       "      <td>M</td>\n",
       "      <td>Classic</td>\n",
       "      <td>Sliced Ham, Pineapple, Mozzarella Cheese</td>\n",
       "      <td>The Hawaiian Pizza</td>\n",
       "      <td>2015-01-01 11:38:36</td>\n",
       "    </tr>\n",
       "    <tr>\n",
       "      <th>1</th>\n",
       "      <td>2</td>\n",
       "      <td>2</td>\n",
       "      <td>classic_dlx_m</td>\n",
       "      <td>1</td>\n",
       "      <td>2015-01-01</td>\n",
       "      <td>11:57:40</td>\n",
       "      <td>16.00</td>\n",
       "      <td>16.00</td>\n",
       "      <td>M</td>\n",
       "      <td>Classic</td>\n",
       "      <td>Pepperoni, Mushrooms, Red Onions, Red Peppers,...</td>\n",
       "      <td>The Classic Deluxe Pizza</td>\n",
       "      <td>2015-01-01 11:57:40</td>\n",
       "    </tr>\n",
       "    <tr>\n",
       "      <th>2</th>\n",
       "      <td>3</td>\n",
       "      <td>2</td>\n",
       "      <td>five_cheese_l</td>\n",
       "      <td>1</td>\n",
       "      <td>2015-01-01</td>\n",
       "      <td>11:57:40</td>\n",
       "      <td>18.50</td>\n",
       "      <td>18.50</td>\n",
       "      <td>L</td>\n",
       "      <td>Veggie</td>\n",
       "      <td>Mozzarella Cheese, Provolone Cheese, Smoked Go...</td>\n",
       "      <td>The Five Cheese Pizza</td>\n",
       "      <td>2015-01-01 11:57:40</td>\n",
       "    </tr>\n",
       "    <tr>\n",
       "      <th>3</th>\n",
       "      <td>4</td>\n",
       "      <td>2</td>\n",
       "      <td>ital_supr_l</td>\n",
       "      <td>1</td>\n",
       "      <td>2015-01-01</td>\n",
       "      <td>11:57:40</td>\n",
       "      <td>20.75</td>\n",
       "      <td>20.75</td>\n",
       "      <td>L</td>\n",
       "      <td>Supreme</td>\n",
       "      <td>Calabrese Salami, Capocollo, Tomatoes, Red Oni...</td>\n",
       "      <td>The Italian Supreme Pizza</td>\n",
       "      <td>2015-01-01 11:57:40</td>\n",
       "    </tr>\n",
       "    <tr>\n",
       "      <th>4</th>\n",
       "      <td>5</td>\n",
       "      <td>2</td>\n",
       "      <td>mexicana_m</td>\n",
       "      <td>1</td>\n",
       "      <td>2015-01-01</td>\n",
       "      <td>11:57:40</td>\n",
       "      <td>16.00</td>\n",
       "      <td>16.00</td>\n",
       "      <td>M</td>\n",
       "      <td>Veggie</td>\n",
       "      <td>Tomatoes, Red Peppers, Jalapeno Peppers, Red O...</td>\n",
       "      <td>The Mexicana Pizza</td>\n",
       "      <td>2015-01-01 11:57:40</td>\n",
       "    </tr>\n",
       "  </tbody>\n",
       "</table>\n",
       "</div>"
      ],
      "text/plain": [
       "   order_details_id  order_id       pizza_id  quantity order_date order_time  \\\n",
       "0                 1         1     hawaiian_m         1 2015-01-01   11:38:36   \n",
       "1                 2         2  classic_dlx_m         1 2015-01-01   11:57:40   \n",
       "2                 3         2  five_cheese_l         1 2015-01-01   11:57:40   \n",
       "3                 4         2    ital_supr_l         1 2015-01-01   11:57:40   \n",
       "4                 5         2     mexicana_m         1 2015-01-01   11:57:40   \n",
       "\n",
       "   unit_price  total_price pizza_size pizza_category  \\\n",
       "0       13.25        13.25          M        Classic   \n",
       "1       16.00        16.00          M        Classic   \n",
       "2       18.50        18.50          L         Veggie   \n",
       "3       20.75        20.75          L        Supreme   \n",
       "4       16.00        16.00          M         Veggie   \n",
       "\n",
       "                                   pizza_ingredients  \\\n",
       "0           Sliced Ham, Pineapple, Mozzarella Cheese   \n",
       "1  Pepperoni, Mushrooms, Red Onions, Red Peppers,...   \n",
       "2  Mozzarella Cheese, Provolone Cheese, Smoked Go...   \n",
       "3  Calabrese Salami, Capocollo, Tomatoes, Red Oni...   \n",
       "4  Tomatoes, Red Peppers, Jalapeno Peppers, Red O...   \n",
       "\n",
       "                  pizza_name            datetime  \n",
       "0         The Hawaiian Pizza 2015-01-01 11:38:36  \n",
       "1   The Classic Deluxe Pizza 2015-01-01 11:57:40  \n",
       "2      The Five Cheese Pizza 2015-01-01 11:57:40  \n",
       "3  The Italian Supreme Pizza 2015-01-01 11:57:40  \n",
       "4         The Mexicana Pizza 2015-01-01 11:57:40  "
      ]
     },
     "execution_count": 6,
     "metadata": {},
     "output_type": "execute_result"
    }
   ],
   "source": [
    "df.head()"
   ]
  },
  {
   "cell_type": "code",
   "execution_count": 7,
   "id": "98f02ce9",
   "metadata": {},
   "outputs": [
    {
     "name": "stdout",
     "output_type": "stream",
     "text": [
      "<class 'pandas.core.frame.DataFrame'>\n",
      "RangeIndex: 48620 entries, 0 to 48619\n",
      "Data columns (total 13 columns):\n",
      " #   Column             Non-Null Count  Dtype         \n",
      "---  ------             --------------  -----         \n",
      " 0   order_details_id   48620 non-null  int64         \n",
      " 1   order_id           48620 non-null  int64         \n",
      " 2   pizza_id           48620 non-null  object        \n",
      " 3   quantity           48620 non-null  int64         \n",
      " 4   order_date         48620 non-null  datetime64[ns]\n",
      " 5   order_time         48620 non-null  object        \n",
      " 6   unit_price         48620 non-null  float64       \n",
      " 7   total_price        48620 non-null  float64       \n",
      " 8   pizza_size         48620 non-null  object        \n",
      " 9   pizza_category     48620 non-null  object        \n",
      " 10  pizza_ingredients  48620 non-null  object        \n",
      " 11  pizza_name         48620 non-null  object        \n",
      " 12  datetime           48620 non-null  datetime64[ns]\n",
      "dtypes: datetime64[ns](2), float64(2), int64(3), object(6)\n",
      "memory usage: 4.8+ MB\n"
     ]
    }
   ],
   "source": [
    "###watching data info\n",
    "df.info()"
   ]
  },
  {
   "cell_type": "code",
   "execution_count": 8,
   "id": "e5b7d0b3",
   "metadata": {},
   "outputs": [
    {
     "data": {
      "text/html": [
       "<div>\n",
       "<style scoped>\n",
       "    .dataframe tbody tr th:only-of-type {\n",
       "        vertical-align: middle;\n",
       "    }\n",
       "\n",
       "    .dataframe tbody tr th {\n",
       "        vertical-align: top;\n",
       "    }\n",
       "\n",
       "    .dataframe thead th {\n",
       "        text-align: right;\n",
       "    }\n",
       "</style>\n",
       "<table border=\"1\" class=\"dataframe\">\n",
       "  <thead>\n",
       "    <tr style=\"text-align: right;\">\n",
       "      <th></th>\n",
       "      <th>order_details_id</th>\n",
       "      <th>order_id</th>\n",
       "      <th>quantity</th>\n",
       "      <th>unit_price</th>\n",
       "      <th>total_price</th>\n",
       "    </tr>\n",
       "  </thead>\n",
       "  <tbody>\n",
       "    <tr>\n",
       "      <th>count</th>\n",
       "      <td>48620.000000</td>\n",
       "      <td>48620.000000</td>\n",
       "      <td>48620.000000</td>\n",
       "      <td>48620.000000</td>\n",
       "      <td>48620.000000</td>\n",
       "    </tr>\n",
       "    <tr>\n",
       "      <th>mean</th>\n",
       "      <td>24310.500000</td>\n",
       "      <td>10701.479761</td>\n",
       "      <td>1.019622</td>\n",
       "      <td>16.494132</td>\n",
       "      <td>16.821474</td>\n",
       "    </tr>\n",
       "    <tr>\n",
       "      <th>std</th>\n",
       "      <td>14035.529381</td>\n",
       "      <td>6180.119770</td>\n",
       "      <td>0.143077</td>\n",
       "      <td>3.621789</td>\n",
       "      <td>4.437398</td>\n",
       "    </tr>\n",
       "    <tr>\n",
       "      <th>min</th>\n",
       "      <td>1.000000</td>\n",
       "      <td>1.000000</td>\n",
       "      <td>1.000000</td>\n",
       "      <td>9.750000</td>\n",
       "      <td>9.750000</td>\n",
       "    </tr>\n",
       "    <tr>\n",
       "      <th>25%</th>\n",
       "      <td>12155.750000</td>\n",
       "      <td>5337.000000</td>\n",
       "      <td>1.000000</td>\n",
       "      <td>12.750000</td>\n",
       "      <td>12.750000</td>\n",
       "    </tr>\n",
       "    <tr>\n",
       "      <th>50%</th>\n",
       "      <td>24310.500000</td>\n",
       "      <td>10682.500000</td>\n",
       "      <td>1.000000</td>\n",
       "      <td>16.500000</td>\n",
       "      <td>16.500000</td>\n",
       "    </tr>\n",
       "    <tr>\n",
       "      <th>75%</th>\n",
       "      <td>36465.250000</td>\n",
       "      <td>16100.000000</td>\n",
       "      <td>1.000000</td>\n",
       "      <td>20.250000</td>\n",
       "      <td>20.500000</td>\n",
       "    </tr>\n",
       "    <tr>\n",
       "      <th>max</th>\n",
       "      <td>48620.000000</td>\n",
       "      <td>21350.000000</td>\n",
       "      <td>4.000000</td>\n",
       "      <td>35.950000</td>\n",
       "      <td>83.000000</td>\n",
       "    </tr>\n",
       "  </tbody>\n",
       "</table>\n",
       "</div>"
      ],
      "text/plain": [
       "       order_details_id      order_id      quantity    unit_price  \\\n",
       "count      48620.000000  48620.000000  48620.000000  48620.000000   \n",
       "mean       24310.500000  10701.479761      1.019622     16.494132   \n",
       "std        14035.529381   6180.119770      0.143077      3.621789   \n",
       "min            1.000000      1.000000      1.000000      9.750000   \n",
       "25%        12155.750000   5337.000000      1.000000     12.750000   \n",
       "50%        24310.500000  10682.500000      1.000000     16.500000   \n",
       "75%        36465.250000  16100.000000      1.000000     20.250000   \n",
       "max        48620.000000  21350.000000      4.000000     35.950000   \n",
       "\n",
       "        total_price  \n",
       "count  48620.000000  \n",
       "mean      16.821474  \n",
       "std        4.437398  \n",
       "min        9.750000  \n",
       "25%       12.750000  \n",
       "50%       16.500000  \n",
       "75%       20.500000  \n",
       "max       83.000000  "
      ]
     },
     "execution_count": 8,
     "metadata": {},
     "output_type": "execute_result"
    }
   ],
   "source": [
    "df.describe()"
   ]
  },
  {
   "cell_type": "code",
   "execution_count": 9,
   "id": "09f7ef0d",
   "metadata": {},
   "outputs": [
    {
     "data": {
      "text/plain": [
       "The Classic Deluxe Pizza                      2416\n",
       "The Barbecue Chicken Pizza                    2372\n",
       "The Hawaiian Pizza                            2370\n",
       "The Pepperoni Pizza                           2369\n",
       "The Thai Chicken Pizza                        2315\n",
       "The California Chicken Pizza                  2302\n",
       "The Sicilian Pizza                            1887\n",
       "The Spicy Italian Pizza                       1887\n",
       "The Southwest Chicken Pizza                   1885\n",
       "The Four Cheese Pizza                         1850\n",
       "The Italian Supreme Pizza                     1849\n",
       "The Big Meat Pizza                            1811\n",
       "The Vegetables + Vegetables Pizza             1510\n",
       "The Mexicana Pizza                            1456\n",
       "The Napolitana Pizza                          1451\n",
       "The Spinach and Feta Pizza                    1432\n",
       "The Prosciutto and Arugula Pizza              1428\n",
       "The Pepper Salami Pizza                       1422\n",
       "The Italian Capocollo Pizza                   1414\n",
       "The Greek Pizza                               1406\n",
       "The Five Cheese Pizza                         1359\n",
       "The Pepperoni, Mushroom, and Peppers Pizza    1342\n",
       "The Green Garden Pizza                         987\n",
       "The Chicken Alfredo Pizza                      980\n",
       "The Italian Vegetables Pizza                   975\n",
       "The Chicken Pesto Pizza                        961\n",
       "The Spinach Pesto Pizza                        957\n",
       "The Soppressata Pizza                          957\n",
       "The Spinach Supreme Pizza                      940\n",
       "The Calabrese Pizza                            927\n",
       "The Mediterranean Pizza                        923\n",
       "The Brie Carre Pizza                           480\n",
       "Name: pizza_name, dtype: int64"
      ]
     },
     "execution_count": 9,
     "metadata": {},
     "output_type": "execute_result"
    }
   ],
   "source": [
    "df[\"pizza_name\"].value_counts()\n"
   ]
  },
  {
   "cell_type": "code",
   "execution_count": 10,
   "id": "a403d3b3",
   "metadata": {},
   "outputs": [
    {
     "data": {
      "text/plain": [
       "order_details_id     0\n",
       "order_id             0\n",
       "pizza_id             0\n",
       "quantity             0\n",
       "order_date           0\n",
       "order_time           0\n",
       "unit_price           0\n",
       "total_price          0\n",
       "pizza_size           0\n",
       "pizza_category       0\n",
       "pizza_ingredients    0\n",
       "pizza_name           0\n",
       "datetime             0\n",
       "dtype: int64"
      ]
     },
     "execution_count": 10,
     "metadata": {},
     "output_type": "execute_result"
    }
   ],
   "source": [
    "df.isna().sum()"
   ]
  },
  {
   "cell_type": "markdown",
   "id": "5617201e",
   "metadata": {},
   "source": [
    "### Answering the client questions "
   ]
  },
  {
   "cell_type": "markdown",
   "id": "afa0a184",
   "metadata": {},
   "source": [
    "##  What days and times do we tend to be busiest?"
   ]
  },
  {
   "cell_type": "code",
   "execution_count": 11,
   "id": "d175b3f1",
   "metadata": {},
   "outputs": [],
   "source": [
    "# Extract the day of the week from the datetime column\n",
    "df['day_of_week'] = df['datetime'].dt.day_name()\n",
    "\n",
    "# Extract the hour from the datetime column\n",
    "df['hour'] = df['datetime'].dt.hour"
   ]
  },
  {
   "cell_type": "code",
   "execution_count": 12,
   "id": "cec5ad4b",
   "metadata": {},
   "outputs": [
    {
     "data": {
      "text/html": [
       "<div>\n",
       "<style scoped>\n",
       "    .dataframe tbody tr th:only-of-type {\n",
       "        vertical-align: middle;\n",
       "    }\n",
       "\n",
       "    .dataframe tbody tr th {\n",
       "        vertical-align: top;\n",
       "    }\n",
       "\n",
       "    .dataframe thead th {\n",
       "        text-align: right;\n",
       "    }\n",
       "</style>\n",
       "<table border=\"1\" class=\"dataframe\">\n",
       "  <thead>\n",
       "    <tr style=\"text-align: right;\">\n",
       "      <th></th>\n",
       "      <th>order_details_id</th>\n",
       "      <th>order_id</th>\n",
       "      <th>pizza_id</th>\n",
       "      <th>quantity</th>\n",
       "      <th>order_date</th>\n",
       "      <th>order_time</th>\n",
       "      <th>unit_price</th>\n",
       "      <th>total_price</th>\n",
       "      <th>pizza_size</th>\n",
       "      <th>pizza_category</th>\n",
       "      <th>pizza_ingredients</th>\n",
       "      <th>pizza_name</th>\n",
       "      <th>datetime</th>\n",
       "      <th>day_of_week</th>\n",
       "      <th>hour</th>\n",
       "    </tr>\n",
       "  </thead>\n",
       "  <tbody>\n",
       "    <tr>\n",
       "      <th>0</th>\n",
       "      <td>1</td>\n",
       "      <td>1</td>\n",
       "      <td>hawaiian_m</td>\n",
       "      <td>1</td>\n",
       "      <td>2015-01-01</td>\n",
       "      <td>11:38:36</td>\n",
       "      <td>13.25</td>\n",
       "      <td>13.25</td>\n",
       "      <td>M</td>\n",
       "      <td>Classic</td>\n",
       "      <td>Sliced Ham, Pineapple, Mozzarella Cheese</td>\n",
       "      <td>The Hawaiian Pizza</td>\n",
       "      <td>2015-01-01 11:38:36</td>\n",
       "      <td>Thursday</td>\n",
       "      <td>11</td>\n",
       "    </tr>\n",
       "    <tr>\n",
       "      <th>1</th>\n",
       "      <td>2</td>\n",
       "      <td>2</td>\n",
       "      <td>classic_dlx_m</td>\n",
       "      <td>1</td>\n",
       "      <td>2015-01-01</td>\n",
       "      <td>11:57:40</td>\n",
       "      <td>16.00</td>\n",
       "      <td>16.00</td>\n",
       "      <td>M</td>\n",
       "      <td>Classic</td>\n",
       "      <td>Pepperoni, Mushrooms, Red Onions, Red Peppers,...</td>\n",
       "      <td>The Classic Deluxe Pizza</td>\n",
       "      <td>2015-01-01 11:57:40</td>\n",
       "      <td>Thursday</td>\n",
       "      <td>11</td>\n",
       "    </tr>\n",
       "    <tr>\n",
       "      <th>2</th>\n",
       "      <td>3</td>\n",
       "      <td>2</td>\n",
       "      <td>five_cheese_l</td>\n",
       "      <td>1</td>\n",
       "      <td>2015-01-01</td>\n",
       "      <td>11:57:40</td>\n",
       "      <td>18.50</td>\n",
       "      <td>18.50</td>\n",
       "      <td>L</td>\n",
       "      <td>Veggie</td>\n",
       "      <td>Mozzarella Cheese, Provolone Cheese, Smoked Go...</td>\n",
       "      <td>The Five Cheese Pizza</td>\n",
       "      <td>2015-01-01 11:57:40</td>\n",
       "      <td>Thursday</td>\n",
       "      <td>11</td>\n",
       "    </tr>\n",
       "    <tr>\n",
       "      <th>3</th>\n",
       "      <td>4</td>\n",
       "      <td>2</td>\n",
       "      <td>ital_supr_l</td>\n",
       "      <td>1</td>\n",
       "      <td>2015-01-01</td>\n",
       "      <td>11:57:40</td>\n",
       "      <td>20.75</td>\n",
       "      <td>20.75</td>\n",
       "      <td>L</td>\n",
       "      <td>Supreme</td>\n",
       "      <td>Calabrese Salami, Capocollo, Tomatoes, Red Oni...</td>\n",
       "      <td>The Italian Supreme Pizza</td>\n",
       "      <td>2015-01-01 11:57:40</td>\n",
       "      <td>Thursday</td>\n",
       "      <td>11</td>\n",
       "    </tr>\n",
       "    <tr>\n",
       "      <th>4</th>\n",
       "      <td>5</td>\n",
       "      <td>2</td>\n",
       "      <td>mexicana_m</td>\n",
       "      <td>1</td>\n",
       "      <td>2015-01-01</td>\n",
       "      <td>11:57:40</td>\n",
       "      <td>16.00</td>\n",
       "      <td>16.00</td>\n",
       "      <td>M</td>\n",
       "      <td>Veggie</td>\n",
       "      <td>Tomatoes, Red Peppers, Jalapeno Peppers, Red O...</td>\n",
       "      <td>The Mexicana Pizza</td>\n",
       "      <td>2015-01-01 11:57:40</td>\n",
       "      <td>Thursday</td>\n",
       "      <td>11</td>\n",
       "    </tr>\n",
       "  </tbody>\n",
       "</table>\n",
       "</div>"
      ],
      "text/plain": [
       "   order_details_id  order_id       pizza_id  quantity order_date order_time  \\\n",
       "0                 1         1     hawaiian_m         1 2015-01-01   11:38:36   \n",
       "1                 2         2  classic_dlx_m         1 2015-01-01   11:57:40   \n",
       "2                 3         2  five_cheese_l         1 2015-01-01   11:57:40   \n",
       "3                 4         2    ital_supr_l         1 2015-01-01   11:57:40   \n",
       "4                 5         2     mexicana_m         1 2015-01-01   11:57:40   \n",
       "\n",
       "   unit_price  total_price pizza_size pizza_category  \\\n",
       "0       13.25        13.25          M        Classic   \n",
       "1       16.00        16.00          M        Classic   \n",
       "2       18.50        18.50          L         Veggie   \n",
       "3       20.75        20.75          L        Supreme   \n",
       "4       16.00        16.00          M         Veggie   \n",
       "\n",
       "                                   pizza_ingredients  \\\n",
       "0           Sliced Ham, Pineapple, Mozzarella Cheese   \n",
       "1  Pepperoni, Mushrooms, Red Onions, Red Peppers,...   \n",
       "2  Mozzarella Cheese, Provolone Cheese, Smoked Go...   \n",
       "3  Calabrese Salami, Capocollo, Tomatoes, Red Oni...   \n",
       "4  Tomatoes, Red Peppers, Jalapeno Peppers, Red O...   \n",
       "\n",
       "                  pizza_name            datetime day_of_week  hour  \n",
       "0         The Hawaiian Pizza 2015-01-01 11:38:36    Thursday    11  \n",
       "1   The Classic Deluxe Pizza 2015-01-01 11:57:40    Thursday    11  \n",
       "2      The Five Cheese Pizza 2015-01-01 11:57:40    Thursday    11  \n",
       "3  The Italian Supreme Pizza 2015-01-01 11:57:40    Thursday    11  \n",
       "4         The Mexicana Pizza 2015-01-01 11:57:40    Thursday    11  "
      ]
     },
     "execution_count": 12,
     "metadata": {},
     "output_type": "execute_result"
    }
   ],
   "source": [
    "df.head()"
   ]
  },
  {
   "cell_type": "code",
   "execution_count": 13,
   "id": "8fb2bd0a",
   "metadata": {},
   "outputs": [],
   "source": [
    "# Count the number of orders for each day of the week and hour\n",
    "busy_times = df.groupby(['day_of_week', 'hour']).size().reset_index(name='order_count')\n",
    "# Find the busiest day and hour\n",
    "busiest_time = busy_times.loc[busy_times['order_count'].idxmax()]\n"
   ]
  },
  {
   "cell_type": "code",
   "execution_count": 14,
   "id": "00f76f13",
   "metadata": {},
   "outputs": [
    {
     "name": "stdout",
     "output_type": "stream",
     "text": [
      "Busiest day and time\n",
      "Day: Thursday\n",
      "Hour: 12\n",
      "Number of orders: 1106\n"
     ]
    }
   ],
   "source": [
    "print(\"Busiest day and time\")\n",
    "print(\"Day:\", busiest_time['day_of_week'])\n",
    "print(\"Hour:\", busiest_time['hour'])\n",
    "print(\"Number of orders:\", busiest_time['order_count'])"
   ]
  },
  {
   "cell_type": "code",
   "execution_count": 15,
   "id": "06c6c5f4",
   "metadata": {},
   "outputs": [
    {
     "data": {
      "image/png": "[encoded data removed]",
      "text/plain": [
       "<Figure size 1000x600 with 2 Axes>"
      ]
     },
     "metadata": {},
     "output_type": "display_data"
    }
   ],
   "source": [
    "# Pivot the data to create a matrix for heatmap and replace missing/non-numeric values with zeros\n",
    "heatmap_data = busy_times.pivot('day_of_week', 'hour', 'order_count').fillna(0).astype(int)\n",
    "\n",
    "# Plot the heatmap\n",
    "plt.figure(figsize=(10, 6))\n",
    "sns.heatmap(heatmap_data, cmap='YlOrRd', annot=True, fmt='d')\n",
    "plt.xlabel('Hour')\n",
    "plt.ylabel('Day of the Week')\n",
    "plt.title('Busiest Days and Hours')\n",
    "plt.tight_layout()\n",
    "plt.show()"
   ]
  },
  {
   "cell_type": "markdown",
   "id": "5e36144d",
   "metadata": {},
   "source": [
    "- From above heatmap we can see that everyday around 12 noon seems to be busiest time of the restaurant\n",
    "- Thursdays are the busiest with around 1106 orders at 12 pm."
   ]
  },
  {
   "cell_type": "markdown",
   "id": "4f9b545d",
   "metadata": {},
   "source": [
    "# How many pizzas are we making during peak periods?"
   ]
  },
  {
   "cell_type": "code",
   "execution_count": 35,
   "id": "df9ab154",
   "metadata": {},
   "outputs": [
    {
     "name": "stdout",
     "output_type": "stream",
     "text": [
      "Total number of pizzas made during peak periods are: 13189\n"
     ]
    }
   ],
   "source": [
    "# Define the peak periods\n",
    "peak_periods = [12,13]  # Example: 6 PM to 9 PM\n",
    "\n",
    "# Filter the dataframe for the peak periods\n",
    "peak_df = df[df['hour'].isin(peak_periods)]\n",
    "\n",
    "# Calculate the total quantity of pizzas ordered during peak periods\n",
    "total_pizzas_during_peak = peak_df['quantity'].sum()\n",
    "\n",
    "print(\"Total number of pizzas made during peak periods are:\", total_pizzas_during_peak)"
   ]
  },
  {
   "cell_type": "markdown",
   "id": "1bac04b6",
   "metadata": {},
   "source": [
    "# What are our best and worst-selling pizzas?"
   ]
  },
  {
   "cell_type": "code",
   "execution_count": 16,
   "id": "ebabf9df",
   "metadata": {},
   "outputs": [
    {
     "data": {
      "text/plain": [
       "<AxesSubplot:>"
      ]
     },
     "execution_count": 16,
     "metadata": {},
     "output_type": "execute_result"
    },
    {
     "data": {
      "image/png": "[encoded data removed]",
      "text/plain": [
       "<Figure size 640x480 with 1 Axes>"
      ]
     },
     "metadata": {},
     "output_type": "display_data"
    }
   ],
   "source": [
    "category = df['pizza_category'].value_counts()\n",
    "(df[\"pizza_category\"].value_counts()).plot(kind ='bar',color='#c18978')"
   ]
  },
  {
   "cell_type": "markdown",
   "id": "69eba29e",
   "metadata": {},
   "source": [
    "- classic pizzas are best pizza category sold"
   ]
  },
  {
   "cell_type": "code",
   "execution_count": 17,
   "id": "470a9845",
   "metadata": {},
   "outputs": [],
   "source": [
    "pizzas_sum = df.groupby('pizza_id')['quantity'].sum().sort_values(ascending = False)"
   ]
  },
  {
   "cell_type": "code",
   "execution_count": 18,
   "id": "a21023fd",
   "metadata": {},
   "outputs": [
    {
     "name": "stdout",
     "output_type": "stream",
     "text": [
      "Top 10 best selling pizza:\n",
      " pizza_id\n",
      "big_meat_s       1914\n",
      "thai_ckn_l       1410\n",
      "five_cheese_l    1409\n",
      "four_cheese_l    1316\n",
      "classic_dlx_m    1181\n",
      "spicy_ital_l     1109\n",
      "hawaiian_s       1020\n",
      "southw_ckn_l     1016\n",
      "bbq_ckn_l         992\n",
      "bbq_ckn_m         956\n",
      "Name: quantity, dtype: int64\n"
     ]
    }
   ],
   "source": [
    "print('Top 10 best selling pizza:\\n',pizzas_sum.head(10))"
   ]
  },
  {
   "cell_type": "code",
   "execution_count": 19,
   "id": "469b12dd",
   "metadata": {},
   "outputs": [
    {
     "name": "stdout",
     "output_type": "stream",
     "text": [
      "Top 10 worst selling pizza:\n",
      " pizza_id\n",
      "spinach_supr_m    267\n",
      "the_greek_l       255\n",
      "ital_supr_s       196\n",
      "ital_veggie_l     190\n",
      "ckn_alfredo_l     188\n",
      "mexicana_s        162\n",
      "calabrese_s        99\n",
      "ckn_alfredo_s      96\n",
      "green_garden_l     95\n",
      "the_greek_xxl      28\n",
      "Name: quantity, dtype: int64\n"
     ]
    }
   ],
   "source": [
    "print('Top 10 worst selling pizza:\\n',pizzas_sum.iloc[-10:])"
   ]
  },
  {
   "cell_type": "markdown",
   "id": "605447a0",
   "metadata": {},
   "source": [
    "#### Visualizing best and worst pizzas"
   ]
  },
  {
   "cell_type": "code",
   "execution_count": 20,
   "id": "5a7d1c35",
   "metadata": {},
   "outputs": [],
   "source": [
    "pizzas_sum = pizzas_sum.reset_index(name='total_quantity')\n"
   ]
  },
  {
   "cell_type": "code",
   "execution_count": 21,
   "id": "1673d52a",
   "metadata": {},
   "outputs": [
    {
     "data": {
      "text/html": [
       "<div>\n",
       "<style scoped>\n",
       "    .dataframe tbody tr th:only-of-type {\n",
       "        vertical-align: middle;\n",
       "    }\n",
       "\n",
       "    .dataframe tbody tr th {\n",
       "        vertical-align: top;\n",
       "    }\n",
       "\n",
       "    .dataframe thead th {\n",
       "        text-align: right;\n",
       "    }\n",
       "</style>\n",
       "<table border=\"1\" class=\"dataframe\">\n",
       "  <thead>\n",
       "    <tr style=\"text-align: right;\">\n",
       "      <th></th>\n",
       "      <th>pizza_id</th>\n",
       "      <th>total_quantity</th>\n",
       "    </tr>\n",
       "  </thead>\n",
       "  <tbody>\n",
       "    <tr>\n",
       "      <th>0</th>\n",
       "      <td>big_meat_s</td>\n",
       "      <td>1914</td>\n",
       "    </tr>\n",
       "    <tr>\n",
       "      <th>1</th>\n",
       "      <td>thai_ckn_l</td>\n",
       "      <td>1410</td>\n",
       "    </tr>\n",
       "    <tr>\n",
       "      <th>2</th>\n",
       "      <td>five_cheese_l</td>\n",
       "      <td>1409</td>\n",
       "    </tr>\n",
       "    <tr>\n",
       "      <th>3</th>\n",
       "      <td>four_cheese_l</td>\n",
       "      <td>1316</td>\n",
       "    </tr>\n",
       "    <tr>\n",
       "      <th>4</th>\n",
       "      <td>classic_dlx_m</td>\n",
       "      <td>1181</td>\n",
       "    </tr>\n",
       "  </tbody>\n",
       "</table>\n",
       "</div>"
      ],
      "text/plain": [
       "        pizza_id  total_quantity\n",
       "0     big_meat_s            1914\n",
       "1     thai_ckn_l            1410\n",
       "2  five_cheese_l            1409\n",
       "3  four_cheese_l            1316\n",
       "4  classic_dlx_m            1181"
      ]
     },
     "execution_count": 21,
     "metadata": {},
     "output_type": "execute_result"
    }
   ],
   "source": [
    "pizzas_sum.head()"
   ]
  },
  {
   "cell_type": "code",
   "execution_count": 22,
   "id": "81c486d2",
   "metadata": {},
   "outputs": [
    {
     "data": {
      "image/png": "[encoded data removed]",
      "text/plain": [
       "<Figure size 1200x600 with 1 Axes>"
      ]
     },
     "metadata": {},
     "output_type": "display_data"
    }
   ],
   "source": [
    "plt.figure(figsize=(12, 6)) \n",
    "ax = sns.barplot(data=pizzas_sum, x='pizza_id', y='total_quantity')\n",
    "plt.xlabel('Pizza ID')\n",
    "plt.ylabel('Total Quantity')\n",
    "plt.title('Count of Pizza Orders by Pizza ID')\n",
    "plt.xticks(rotation=90)\n",
    "\n",
    "# Display every nth label on the x-axis\n",
    "n = 10  \n",
    "for index, label in enumerate(ax.xaxis.get_ticklabels()):\n",
    "    if index % n != 0:\n",
    "        label.set_visible(False)\n",
    "\n",
    "plt.show()"
   ]
  },
  {
   "cell_type": "markdown",
   "id": "9f1799d4",
   "metadata": {},
   "source": [
    "# What's our average order value?"
   ]
  },
  {
   "cell_type": "code",
   "execution_count": 23,
   "id": "0f61bcfe",
   "metadata": {},
   "outputs": [],
   "source": [
    "# Calculate the total order value\n",
    "df['total_order_value'] = df['quantity'] * df['total_price']"
   ]
  },
  {
   "cell_type": "code",
   "execution_count": 24,
   "id": "f55884e2",
   "metadata": {},
   "outputs": [
    {
     "name": "stdout",
     "output_type": "stream",
     "text": [
      "Average Order Value is: 17.495593377211023\n"
     ]
    }
   ],
   "source": [
    "# Calculate the average order value\n",
    "average_order_value = df['total_order_value'].sum() / len(df)\n",
    "\n",
    "# Print the average order value\n",
    "print(\"Average Order Value is:\", average_order_value)"
   ]
  },
  {
   "cell_type": "markdown",
   "id": "57554390",
   "metadata": {},
   "source": [
    "# How well are we utilizing our seating capacity?"
   ]
  },
  {
   "cell_type": "code",
   "execution_count": 25,
   "id": "c976aca8",
   "metadata": {},
   "outputs": [],
   "source": [
    "# Group the data by date and time and calculate the total number of guests\n",
    "guests_per_slot = df.groupby(['datetime'])['quantity'].sum().reset_index()"
   ]
  },
  {
   "cell_type": "code",
   "execution_count": 26,
   "id": "f53d9c58",
   "metadata": {},
   "outputs": [
    {
     "data": {
      "text/plain": [
       "datetime    2015-12-31 23:02:05\n",
       "quantity                     28\n",
       "dtype: object"
      ]
     },
     "execution_count": 26,
     "metadata": {},
     "output_type": "execute_result"
    }
   ],
   "source": [
    "guests_per_slot.max()"
   ]
  },
  {
   "cell_type": "code",
   "execution_count": 27,
   "id": "85f85e08",
   "metadata": {},
   "outputs": [],
   "source": [
    "# Calculate the maximum number of guests among all time slots\n",
    "max_guests = guests_per_slot['quantity'].max()"
   ]
  },
  {
   "cell_type": "code",
   "execution_count": 28,
   "id": "ecff11bf",
   "metadata": {},
   "outputs": [
    {
     "name": "stdout",
     "output_type": "stream",
     "text": [
      "Seat Occupancy Rate: 46.666666666666664 %\n"
     ]
    }
   ],
   "source": [
    "# Define the total number of available seats\n",
    "total_seats = 60\n",
    "\n",
    "# Calculate the seat occupancy rate\n",
    "seat_occupancy_rate = (max_guests / total_seats) * 100\n",
    "\n",
    "# Print the seat occupancy rate\n",
    "print(\"Seat Occupancy Rate:\", seat_occupancy_rate, \"%\")"
   ]
  },
  {
   "cell_type": "markdown",
   "id": "d16e084c",
   "metadata": {},
   "source": [
    "We can see that during the hour with the most orders i.e 28 the occupancy rate is 46% only \n",
    "This means that half of the restaurant was empty during that time"
   ]
  }
 ],
 "metadata": {
  "kernelspec": {
   "display_name": "Python 3 (ipykernel)",
   "language": "python",
   "name": "python3"
  },
  "language_info": {
   "codemirror_mode": {
    "name": "ipython",
    "version": 3
   },
   "file_extension": ".py",
   "mimetype": "text/x-python",
   "name": "python",
   "nbconvert_exporter": "python",
   "pygments_lexer": "ipython3",
   "version": "3.9.13"
  }
 },
 "nbformat": 4,
 "nbformat_minor": 5
}
